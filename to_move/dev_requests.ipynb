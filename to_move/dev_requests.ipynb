{
 "cells": [
  {
   "cell_type": "code",
   "execution_count": 4,
   "metadata": {},
   "outputs": [
    {
     "name": "stderr",
     "output_type": "stream",
     "text": [
      "Chapter:   0%|          | 1/1601 [00:00<?, ?it/s]\n"
     ]
    },
    {
     "ename": "IndexError",
     "evalue": "list index out of range",
     "output_type": "error",
     "traceback": [
      "\u001b[0;31m---------------------------------------------------------------------------\u001b[0m",
      "\u001b[0;31mIndexError\u001b[0m                                Traceback (most recent call last)",
      "\u001b[1;32m/workspaces/crawl_web_truyen/dev_requests.ipynb Cell 1\u001b[0m line \u001b[0;36m6\n\u001b[1;32m     <a href='vscode-notebook-cell://dev-container%2B7b22686f737450617468223a222f6d6e742f702f637261776c5f7765625f74727579656e222c226c6f63616c446f636b6572223a66616c73652c22636f6e66696746696c65223a7b22246d6964223a312c22667350617468223a222f6d6e742f702f637261776c5f7765625f74727579656e2f2e646576636f6e7461696e65722f646576636f6e7461696e65722e6a736f6e222c2265787465726e616c223a2266696c653a2f2f2f6d6e742f702f637261776c5f7765625f74727579656e2f2e646576636f6e7461696e65722f646576636f6e7461696e65722e6a736f6e222c2270617468223a222f6d6e742f702f637261776c5f7765625f74727579656e2f2e646576636f6e7461696e65722f646576636f6e7461696e65722e6a736f6e222c22736368656d65223a2266696c65227d7d/workspaces/crawl_web_truyen/dev_requests.ipynb#W0sdnNjb2RlLXJlbW90ZQ%3D%3D?line=60'>61</a>\u001b[0m     title \u001b[39m=\u001b[39m \u001b[39m\"\u001b[39m\u001b[39mChương \u001b[39m\u001b[39m{chapter_number}\u001b[39;00m\u001b[39m\"\u001b[39m\n\u001b[1;32m     <a href='vscode-notebook-cell://dev-container%2B7b22686f737450617468223a222f6d6e742f702f637261776c5f7765625f74727579656e222c226c6f63616c446f636b6572223a66616c73652c22636f6e66696746696c65223a7b22246d6964223a312c22667350617468223a222f6d6e742f702f637261776c5f7765625f74727579656e2f2e646576636f6e7461696e65722f646576636f6e7461696e65722e6a736f6e222c2265787465726e616c223a2266696c653a2f2f2f6d6e742f702f637261776c5f7765625f74727579656e2f2e646576636f6e7461696e65722f646576636f6e7461696e65722e6a736f6e222c2270617468223a222f6d6e742f702f637261776c5f7765625f74727579656e2f2e646576636f6e7461696e65722f646576636f6e7461696e65722e6a736f6e222c22736368656d65223a2266696c65227d7d/workspaces/crawl_web_truyen/dev_requests.ipynb#W0sdnNjb2RlLXJlbW90ZQ%3D%3D?line=62'>63</a>\u001b[0m \u001b[39m# extract link\u001b[39;00m\n\u001b[0;32m---> <a href='vscode-notebook-cell://dev-container%2B7b22686f737450617468223a222f6d6e742f702f637261776c5f7765625f74727579656e222c226c6f63616c446f636b6572223a66616c73652c22636f6e66696746696c65223a7b22246d6964223a312c22667350617468223a222f6d6e742f702f637261776c5f7765625f74727579656e2f2e646576636f6e7461696e65722f646576636f6e7461696e65722e6a736f6e222c2265787465726e616c223a2266696c653a2f2f2f6d6e742f702f637261776c5f7765625f74727579656e2f2e646576636f6e7461696e65722f646576636f6e7461696e65722e6a736f6e222c2270617468223a222f6d6e742f702f637261776c5f7765625f74727579656e2f2e646576636f6e7461696e65722f646576636f6e7461696e65722e6a736f6e222c22736368656d65223a2266696c65227d7d/workspaces/crawl_web_truyen/dev_requests.ipynb#W0sdnNjb2RlLXJlbW90ZQ%3D%3D?line=63'>64</a>\u001b[0m extracted_link \u001b[39m=\u001b[39m tree\u001b[39m.\u001b[39;49mxpath(\u001b[39m'\u001b[39;49m\u001b[39m//*[@id=\u001b[39;49m\u001b[39m\"\u001b[39;49m\u001b[39mchcontent\u001b[39;49m\u001b[39m\"\u001b[39;49m\u001b[39m]/div[4]/a[2]/@href\u001b[39;49m\u001b[39m'\u001b[39;49m)[\u001b[39m0\u001b[39;49m]\n\u001b[1;32m     <a href='vscode-notebook-cell://dev-container%2B7b22686f737450617468223a222f6d6e742f702f637261776c5f7765625f74727579656e222c226c6f63616c446f636b6572223a66616c73652c22636f6e66696746696c65223a7b22246d6964223a312c22667350617468223a222f6d6e742f702f637261776c5f7765625f74727579656e2f2e646576636f6e7461696e65722f646576636f6e7461696e65722e6a736f6e222c2265787465726e616c223a2266696c653a2f2f2f6d6e742f702f637261776c5f7765625f74727579656e2f2e646576636f6e7461696e65722f646576636f6e7461696e65722e6a736f6e222c2270617468223a222f6d6e742f702f637261776c5f7765625f74727579656e2f2e646576636f6e7461696e65722f646576636f6e7461696e65722e6a736f6e222c22736368656d65223a2266696c65227d7d/workspaces/crawl_web_truyen/dev_requests.ipynb#W0sdnNjb2RlLXJlbW90ZQ%3D%3D?line=64'>65</a>\u001b[0m \u001b[39mif\u001b[39;00m \u001b[39m\"\u001b[39m\u001b[39mjavascript\u001b[39m\u001b[39m\"\u001b[39m \u001b[39min\u001b[39;00m extracted_link:\n\u001b[1;32m     <a href='vscode-notebook-cell://dev-container%2B7b22686f737450617468223a222f6d6e742f702f637261776c5f7765625f74727579656e222c226c6f63616c446f636b6572223a66616c73652c22636f6e66696746696c65223a7b22246d6964223a312c22667350617468223a222f6d6e742f702f637261776c5f7765625f74727579656e2f2e646576636f6e7461696e65722f646576636f6e7461696e65722e6a736f6e222c2265787465726e616c223a2266696c653a2f2f2f6d6e742f702f637261776c5f7765625f74727579656e2f2e646576636f6e7461696e65722f646576636f6e7461696e65722e6a736f6e222c2270617468223a222f6d6e742f702f637261776c5f7765625f74727579656e2f2e646576636f6e7461696e65722f646576636f6e7461696e65722e6a736f6e222c22736368656d65223a2266696c65227d7d/workspaces/crawl_web_truyen/dev_requests.ipynb#W0sdnNjb2RlLXJlbW90ZQ%3D%3D?line=65'>66</a>\u001b[0m     extracted_link \u001b[39m=\u001b[39m tree\u001b[39m.\u001b[39mxpath(\u001b[39m'\u001b[39m\u001b[39m//*[@id=\u001b[39m\u001b[39m\"\u001b[39m\u001b[39mchcontent\u001b[39m\u001b[39m\"\u001b[39m\u001b[39m]/div[4]/a[3]/@href\u001b[39m\u001b[39m'\u001b[39m)[\u001b[39m0\u001b[39m]\n",
      "\u001b[0;31mIndexError\u001b[0m: list index out of range"
     ]
    }
   ],
   "source": [
    "import os\n",
    "import requests\n",
    "\n",
    "from lxml import html\n",
    "from tqdm import tqdm\n",
    "from time import sleep\n",
    "\n",
    "PAGES_TO_SAVE = 10\n",
    "FROM_CHAPTER = 1\n",
    "TO_CHAPTER = 1601\n",
    "ALL_CHAPTER = 1601\n",
    "SAVE_DIR = \"data/mao_son_quy_mon_thuat_tangthuvien/\"\n",
    "\n",
    "to_save = \"\"\n",
    "chapters_in_save = []\n",
    "\n",
    "# create save dir if not exists\n",
    "os.makedirs(SAVE_DIR, exist_ok=True)\n",
    "\n",
    "\n",
    "def process_content(content):\n",
    "    content = content.split(\"\\n\")\n",
    "    filtered_content = []\n",
    "    for i, c in enumerate(content):\n",
    "        if i < 5:\n",
    "            if \"converter\" in c.lower():\n",
    "                continue\n",
    "            elif \"Chương\" in c:\n",
    "                continue\n",
    "            elif \"Cập nhật lúc\" in c:\n",
    "                continue\n",
    "        if \"HȯṪȓuyëŋ.cøm\" in c:\n",
    "            continue\n",
    "        elif \"hotruyen\" in c:\n",
    "            continue\n",
    "        elif c.strip() == \"\":\n",
    "            continue\n",
    "        c = c.strip()\n",
    "        c = c.replace(\"\\r\\n\\r\\n\", \"\\n\")\n",
    "        c = c.replace(\"\\t\", \"\")\n",
    "        filtered_content.append(c)\n",
    "    filtered_content = \"\\n\".join(filtered_content)\n",
    "    # filtered_content = filtered_content.replace(\"\\n\\n\", \"\\n\")\n",
    "    return filtered_content\n",
    "\n",
    "\n",
    "next_link = \"https://hotruyen.com/chuong/mao-son-quy-thuat-su-chuong-1-31303539352D382D312D37313238302D30\"\n",
    "\n",
    "for chapter_number in tqdm(\n",
    "    range(FROM_CHAPTER, TO_CHAPTER + 1),\n",
    "    initial=FROM_CHAPTER,\n",
    "    desc=\"Chapter\",\n",
    "    total=ALL_CHAPTER,\n",
    "):\n",
    "    chapters_in_save.append(chapter_number)\n",
    "    page = requests.get(next_link)\n",
    "    tree = html.fromstring(page.content)\n",
    "    try:\n",
    "        title = tree.xpath(\"string(/html/body/div[5]/div[1]/div/h2)\").strip()\n",
    "        normalized_title = title.replace(\"\\xa0\", \" \")\n",
    "    except:\n",
    "        print(f\"chapter {chapter_number} issue\")\n",
    "        title = \"Chương {chapter_number}\"\n",
    "\n",
    "    # extract link\n",
    "    extracted_link = tree.xpath('//*[@id=\"chcontent\"]/div[4]/a[2]/@href')[0]\n",
    "    if \"javascript\" in extracted_link:\n",
    "        extracted_link = tree.xpath('//*[@id=\"chcontent\"]/div[4]/a[3]/@href')[0]\n",
    "    next_link = f\"https://hotruyen.com{extracted_link}\"\n",
    "\n",
    "    content = tree.xpath('string(//*[@id=\"borderchapter\"])')\n",
    "    content = process_content(content)\n",
    "    chapter_content = title + \"\\n\\n\" + content + \"\\n\\n\\n\"\n",
    "    to_save = to_save + chapter_content\n",
    "    to_save = to_save.strip()\n",
    "    if len(to_save) < 2000:\n",
    "        print(f\"oh shit! {chapter_number}\")\n",
    "\n",
    "    if chapter_number % PAGES_TO_SAVE == 0 or chapter_number == TO_CHAPTER:\n",
    "        with open(\n",
    "            f\"{SAVE_DIR}/msqmt_{min(chapters_in_save)}-{max(chapters_in_save)}.txt\", \"w\"\n",
    "        ) as f:\n",
    "            f.write(to_save)\n",
    "        to_save = \"\"\n",
    "        chapters_in_save = []\n",
    "    # break\n",
    "\n",
    "    sleep(2)\n"
   ]
  },
  {
   "cell_type": "code",
   "execution_count": null,
   "metadata": {},
   "outputs": [],
   "source": []
  },
  {
   "cell_type": "code",
   "execution_count": null,
   "metadata": {},
   "outputs": [],
   "source": []
  },
  {
   "cell_type": "code",
   "execution_count": 5,
   "metadata": {},
   "outputs": [
    {
     "data": {
      "text/plain": [
       "'\\r\\n           \\r\\n\\t\\t\\t\\t\\t\\r\\n                    \\xa0\\xa0\\xa0\\xa0Chương 01: Quan tài di anh\\r\\n\\t\\t\\t\\t\\t\\r\\n\\t\\t\\t\\t\\t\\r\\n                    \\xa0\\xa0\\xa0\\xa0\\tChương 01: Quan tài di anh\\r\\n\\t\\t\\t\\t\\t\\r\\n\\t\\t\\t\\t\\t\\r\\n                    \\xa0\\xa0\\xa0\\xa0\\t. us\\xa0\\xa0\\xa0\\xa0 bát tự toàn âm là mệnh cách của ta, theo Đạo gia lý luận, này mệnh cách cuộc đời long đong, khó khăn trắc trở không ngừng.\\r\\n\\t\\t\\t\\t\\t\\r\\n\\t\\t\\t\\t\\t\\r\\n                    \\xa0\\xa0\\xa0\\xa0\\tTa gọi là Phương Cương, danh tự này là sư phụ ta lên, nói là có thể gia tăng Dương Khí, khắc chế mệnh cách âm khí nặng ảnh hưởng.\\r\\n\\t\\t\\t\\t\\t\\r\\n\\t\\t\\t\\t\\t\\r\\n                    \\xa0\\xa0\\xa0\\xa0\\tTa không biết mình phụ mẫu là ai, bởi vì, ta vừa ra vốn liền bị Hàng Đầu sư cho trộm đi, nghe sư phó giảng thuật ta khi đó gặp phải, chính ta đều không thắng thổn thức.\\r\\n\\t\\t\\t\\t\\t\\r\\n\\t\\t\\t\\t\\t\\r\\n                    \\xa0\\xa0\\xa0\\xa0\\tKia là cái đưa tay không thấy được năm ngón ban đêm.\\r\\n\\t\\t\\t\\t\\t\\r\\n\\t\\t\\t\\t\\t\\r\\n                    \\xa0\\xa0\\xa0\\xa0\\tVừa ra đời ta bị Hàng Đầu sư đưa đến Âm Sát chi khí cực nặng trong sơn cốc, hắn đem ta chứa ở trước đó chuẩn bị kỹ càng quan tài nhỏ tài bên trong, đắp lên nắp quan tài, vùi sâu vào đã sớm đào xong mộ phần trong hố.\\r\\n\\t\\t\\t\\t\\t\\r\\n\\t\\t\\t\\t\\t\\r\\n                    \\xa0\\xa0\\xa0\\xa0\\tĐây là miệng đặc chế quan tài, nắp quan tài bên trên khảm nạm một mặt vẽ đầy cổ quái phù văn tấm gương, kỳ thật, loại vật này chính là Hàng Đầu sư nuôi quỷ sử dụng \\'Quỷ Quan\\' .\\r\\n\\t\\t\\t\\t\\t\\r\\n\\t\\t\\t\\t\\t\\r\\n                    \\xa0\\xa0\\xa0\\xa0\\tTa một cái vừa ra đời còn không có mở mắt tiểu hài tử, liền bị cái này phát rồ gia hỏa, còn sống chôn đến dưới mặt đất.\\r\\n\\t\\t\\t\\t\\t\\r\\n\\t\\t\\t\\t\\t\\r\\n                    \\xa0\\xa0\\xa0\\xa0\\tTa nghe sư phó giảng, đây là Hàng Đầu sư chế tạo \\'Lấy mạng Quỷ Anh\\' thủ đoạn, bởi vì tổn hại âm đức, cho nên, Hàng Đầu sư cũng không dám tùy ý vận dụng này thuật.\\r\\n\\t\\t\\t\\t\\t\\r\\n\\t\\t\\t\\t\\t\\r\\n                    \\xa0\\xa0\\xa0\\xa0\\tLấy mạng Quỷ Anh một khi thành hình, phàm nhân không thể gặp, giết người ở vô hình, ngự sử vật này Hàng Đầu sư muốn chơi chết cá biệt người quả thực là dễ như trở bàn tay.\\r\\n\\t\\t\\t\\t\\t\\r\\n\\t\\t\\t\\t\\t\\r\\n                    \\xa0\\xa0\\xa0\\xa0\\tThế nhưng là, triển khai phép thuật này Hàng Đầu sư tuổi thọ sẽ giảm bớt ba mươi năm.\\r\\n\\t\\t\\t\\t\\t\\r\\n\\t\\t\\t\\t\\t\\r\\n                    \\xa0\\xa0\\xa0\\xa0\\tMặc dù ta bát tự toàn âm, nhưng cũng may thượng thiên có đức hiếu sinh, cũng là ta mệnh không có đến tuyệt lộ, màn đêm buông xuống chợt trên trời rơi xuống mưa to, phích lịch đem vừa mai táng mộ phần nổ tung.\\r\\n\\t\\t\\t\\t\\t\\r\\n\\t\\t\\t\\t\\t\\r\\n                    \\xa0\\xa0\\xa0\\xa0\\tHàng Đầu sư kinh hãi, đang muốn thi pháp, lại bị dị tượng hấp dẫn ở đây lão đạo sĩ... Ách, cũng chính là sư phụ của ta \\'Đạo Hoa chân nhân\\' gặp được.\\r\\n\\t\\t\\t\\t\\t\\r\\n\\t\\t\\t\\t\\t\\r\\n                    \\xa0\\xa0\\xa0\\xa0\\tHắn chỉ nhìn bên trên liếc mắt, liền biết Hàng Đầu sư đang làm cái gì, không khỏi giận dữ.\\r\\n\\t\\t\\t\\t\\t\\r\\n\\t\\t\\t\\t\\t\\r\\n                    \\xa0\\xa0\\xa0\\xa0\\tSau đó, dĩ nhiên chính là sư phụ ta khoác lác lời nói.\\r\\n\\t\\t\\t\\t\\t\\r\\n\\t\\t\\t\\t\\t\\r\\n                    \\xa0\\xa0\\xa0\\xa0\\tCái gì hắn kêu gọi lục giáp sáu đinh, Kim Tiên La Hán, Bát Bộ Thiên Long, đem tên hỗn đản kia đánh chật vật thỏ trốn, sau đó, hạ đến trong nước đem ngôi mộ mới gỡ ra, đem Quỷ Quan từ ô thủy bên trong lấy ra, thi pháp tránh ra nắp quan tài, cứu ta thoát ly khổ hải... Vân vân.\\r\\n\\t\\t\\t\\t\\t\\r\\n\\t\\t\\t\\t\\t\\r\\n                    \\xa0\\xa0\\xa0\\xa0\\tNói tóm lại, một đoạn này bị sư phụ ta thổi chính là thiên hoa loạn trụy.\\r\\n\\t\\t\\t\\t\\t\\r\\n\\t\\t\\t\\t\\t\\r\\n                    \\xa0\\xa0\\xa0\\xa0\\tSư phó ôm lấy mở mắt ra đối với hắn cười ta, động lòng trắc ẩn, cho nên, ta không có được đưa đến cô nhi viện đi, mà là bị sư phó thu dưỡng tại bên người.\\r\\n\\t\\t\\t\\t\\t\\r\\n\\t\\t\\t\\t\\t\\r\\n                    \\xa0\\xa0\\xa0\\xa0\\tMột năm kia, sư phó bảy mươi tám tuổi, ta vừa ra đời, xem như một tuổi mụ đi.\\r\\n\\t\\t\\t\\t\\t\\r\\n\\t\\t\\t\\t\\t\\r\\n                    \\xa0\\xa0\\xa0\\xa0\\tĐạo Hoa chân nhân tên tuổi rất vang dội, kỳ thật lẫn vào chỉ tính, tại trong đại thành thị có cái cửa nhỏ gian hàng, rất vắng vẻ, mở nhà tên là \\'Đạo Hoa cực lạc tấn táng\\' cửa hàng nhỏ tử, cũng chính là tục xưng tiệm quan tài.\\r\\n\\t\\t\\t\\t\\t\\r\\n\\t\\t\\t\\t\\t\\r\\n                    \\xa0\\xa0\\xa0\\xa0\\tBán quan tài, nhìn Phong Thủy âm trạch, khu quỷ bắt yêu, diệt ma phá tà... Cái gì, cũng có thể miễn cưỡng sống qua ngày.\\r\\n\\t\\t\\t\\t\\t\\r\\n\\t\\t\\t\\t\\t\\r\\n                    \\xa0\\xa0\\xa0\\xa0\\tSư phó tiên phong đạo cốt hạc phát đồng nhan, mặc thêm vào thêu lên bát quái đồ đạo bào, đừng nói, rất có thể lắc lư người.\\r\\n\\t\\t\\t\\t\\t\\r\\n\\t\\t\\t\\t\\t\\r\\n                    \\xa0\\xa0\\xa0\\xa0\\tSinh ý nha, không tốt không xấu, nuôi sống hai ta ăn uống không thành vấn đề.\\r\\n\\t\\t\\t\\t\\t\\r\\n\\t\\t\\t\\t\\t\\r\\n                    \\xa0\\xa0\\xa0\\xa0\\tTa là dựa vào sư phó mời tới vú em nuôi nấng lớn.\\r\\n\\t\\t\\t\\t\\t\\r\\n\\t\\t\\t\\t\\t\\r\\n                    \\xa0\\xa0\\xa0\\xa0\\tThời gian thấm thoắt, ta năm tuổi, biết nói chuyện, tiến nhà trẻ.\\r\\n\\t\\t\\t\\t\\t\\r\\n\\t\\t\\t\\t\\t\\r\\n                    \\xa0\\xa0\\xa0\\xa0\\tNhưng mắt của ta da cùng khác tiểu bằng hữu không giống, mắt trái mắt một mí, mắt phải mắt hai mí, chính là tục xưng \\'Âm Dương Nhãn\\' .\\r\\n\\t\\t\\t\\t\\t\\r\\n\\t\\t\\t\\t\\t\\r\\n                    \\xa0\\xa0\\xa0\\xa0\\tTa thật có thể trông thấy người khác không nhìn thấy đồ vật. Khi đó, ta biết không ít hảo bằng hữu, bọn chúng đều thích ban đêm tới tìm ta chơi trò chơi.\\r\\n\\t\\t\\t\\t\\t\\r\\n\\t\\t\\t\\t\\t\\r\\n                    \\xa0\\xa0\\xa0\\xa0\\tChuyện này về sau bị sư phó phát giác, hắn rất là khẩn trương, ta chỉ nhớ kỹ mình bị sư phó ở trên người họa mấy cái phù chú, lại đều tự động ẩn hình không gặp, vừa vặn rất tốt chơi.\\r\\n\\t\\t\\t\\t\\t\\r\\n\\t\\t\\t\\t\\t\\r\\n                    \\xa0\\xa0\\xa0\\xa0\\tTừ đó về sau, thẳng đến ta bên trên đại tứ, ta một mực không có gặp lại qua đồ không sạch sẽ.\\r\\n\\t\\t\\t\\t\\t\\r\\n\\t\\t\\t\\t\\t\\r\\n                    \\xa0\\xa0\\xa0\\xa0\\tĐương nhiên, hiểu chuyện sau ta liền minh bạch, ta Âm Dương Nhãn bị sư phó sử dụng phù chú thuật phong.\\r\\n\\t\\t\\t\\t\\t\\r\\n  hȯţȓuyëņ.čøm\\t\\t\\t\\t\\t\\r\\n                    \\xa0\\xa0\\xa0\\xa0\\tCần thiết nói đúng lắm, ta tám tuổi thời điểm có thêm một cái tiểu sư muội, là cái hai tuổi tiểu nha đầu, không biết Đạo Hoa chân nhân từ chỗ nào lừa gạt đến... Ách, khả năng giống như ta, cũng là bị hắn thu dưỡng a? Ta không quá xác định a.\\r\\n\\t\\t\\t\\t\\t\\r\\n\\t\\t\\t\\t\\t\\r\\n                    \\xa0\\xa0\\xa0\\xa0\\tĐạo Hoa chân nhân tục gia họ Phương, ta chính là theo hắn họ, tiểu sư muội cũng theo sư phó họ, tên là \\'Phương Nhu\\' .\\r\\n\\t\\t\\t\\t\\t\\r\\n\\t\\t\\t\\t\\t\\r\\n                    \\xa0\\xa0\\xa0\\xa0\\tHắn nói với ta: \"Tiểu sư muội ngươi bát tự toàn dương, đây đối với một cái nữ hài tử không tốt, cho nên, muốn lên một cái âm nhu danh tự trung hoà một chút.\\r\\n\\t\\t\\t\\t\\t\\r\\n\\t\\t\\t\\t\\t\\r\\n                    \\xa0\\xa0\\xa0\\xa0\\tLại có, ngươi cùng tiểu sư muội cùng một chỗ, vừa vặn có thể Âm Dương hòa hợp bổ sung tiêu tai, sư phó hi vọng về sau các ngươi bồi dưỡng được tình cảm đến, liền làm cả một đời vợ chồng, bởi vì, hai người các ngươi cùng một chỗ không thể thích hợp hơn.\"\\r\\n\\t\\t\\t\\t\\t\\r\\n\\t\\t\\t\\t\\t\\r\\n                    \\xa0\\xa0\\xa0\\xa0\\tThời điểm đó Phương Nhu cắn ngón tay nhỏ, mở to mắt to không hiểu hỏi: \"Lão gia gia, cái gì là vợ chồng đâu?\"\\r\\n\\t\\t\\t\\t\\t\\r\\n\\t\\t\\t\\t\\t\\r\\n                    \\xa0\\xa0\\xa0\\xa0\\t\"Không muốn hô lão gia gia, muốn hô sư phó!\"\\r\\n\\t\\t\\t\\t\\t\\r\\n\\t\\t\\t\\t\\t\\r\\n                    \\xa0\\xa0\\xa0\\xa0\\tĐạo Hoa chân nhân lập tức phá công, rất là hung tàn... Nghiêm khắc hô hào.\\r\\n\\t\\t\\t\\t\\t\\r\\n\\t\\t\\t\\t\\t\\r\\n                    \\xa0\\xa0\\xa0\\xa0\\tÔ ô... !\\r\\n\\t\\t\\t\\t\\t\\r\\n\\t\\t\\t\\t\\t\\r\\n                    \\xa0\\xa0\\xa0\\xa0\\tTiểu nữ hài bị hù khóc lớn.\\r\\n\\t\\t\\t\\t\\t\\r\\n\\t\\t\\t\\t\\t\\r\\n                    \\xa0\\xa0\\xa0\\xa0\\tTa khi đó cũng không hiểu vợ chồng là cái gì , có điều, ta muốn bảo vệ Phương Nhu, đây là trong lòng ta ý nghĩ.\\r\\n\\t\\t\\t\\t\\t\\r\\n\\t\\t\\t\\t\\t\\r\\n                    \\xa0\\xa0\\xa0\\xa0\\tTa một cái ôm chầm Phương Nhu bảo vệ, đối sư phó hô: \"Không muốn hù dọa Tiểu Nhu.\"\\r\\n\\t\\t\\t\\t\\t\\r\\n\\t\\t\\t\\t\\t\\r\\n                    \\xa0\\xa0\\xa0\\xa0\\tĐạo Hoa chân nhân ngay lúc đó biểu lộ rất đặc sắc, ân, ta ngẫm lại... , xác thực rất đặc sắc, tựa như là rất phiền muộn rất ủy khuất rất nhức cả trứng biểu lộ, đúng, chính là như vậy.\\r\\n\\t\\t\\t\\t\\t\\r\\n\\t\\t\\t\\t\\t\\r\\n                    \\xa0\\xa0\\xa0\\xa0\\tTiểu sư muội nâng lên đầu, hai mắt đẫm lệ mông lung nhìn ta, ta nghĩ, chính là khi đó lên, tiểu sư muội trong lòng vĩnh viễn nhớ kỹ ta đi?\\r\\n\\t\\t\\t\\t\\t\\r\\n\\t\\t\\t\\t\\t\\r\\n                    \\xa0\\xa0\\xa0\\xa0\\tTừ ngày đó trở đi, bên cạnh ta có thêm một cái tiểu sư muội, nàng gọi là Phương Nhu, tăng thêm sư phó, chúng ta giống như là thân nhất cả một nhà, cùng một chỗ sinh hoạt.\\r\\n\\t\\t\\t\\t\\t\\r\\n\\t\\t\\t\\t\\t\\r\\n                    \\xa0\\xa0\\xa0\\xa0\\tThẳng đến ta bên trên đại tứ, Phương Nhu lên cấp ba thời điểm, sinh hoạt phát sinh to lớn thay đổi.\\r\\n\\t\\t\\t\\t\\t\\r\\n\\t\\t\\t\\t\\t\\r\\n                    \\xa0\\xa0\\xa0\\xa0\\tNgày nào đó, sư phụ ta Đạo Hoa chân nhân bỗng nhiên đem chúng ta sư huynh muội gọi vào trong phòng nhỏ, giao cho chúng ta một cái hộp nhỏ, nói: \"Vi sư cả đời tiết lộ Thiên Cơ quá nhiều, ngũ tệ tam khuyết bên trong phạm \\'Góa\\' cái chữ này, trước kia cưới qua một vị, lại đoản mệnh rời đi, từ đó về sau ta hiểu, liền không lại cưới vợ.\\r\\n\\t\\t\\t\\t\\t\\r\\n\\t\\t\\t\\t\\t\\r\\n                    \\xa0\\xa0\\xa0\\xa0\\tCũng may lão lão, lại đạt được một đôi ái đồ, có người dưỡng lão đưa tiễn, thượng thiên đối ta không tệ a.\\r\\n\\t\\t\\t\\t\\t\\r\\n\\t\\t\\t\\t\\t\\r\\n                    \\xa0\\xa0\\xa0\\xa0\\tTrong này chứa nơi đây bất động sản khế đất, còn có bản môn không truyền người ngoài kỳ môn bí tịch.\\r\\n\\t\\t\\t\\t\\t\\r\\n\\t\\t\\t\\t\\t\\r\\n                    \\xa0\\xa0\\xa0\\xa0\\tTa mấy năm nay chỉ truyền dạy các ngươi vẽ bùa cùng một chút thứ căn bản, không để các ngươi chính thức nhập môn tiếp xúc Âm Dương chuyện quỷ quái, chính là không nghĩ để các ngươi mệnh phạm ngũ tệ tam khuyết.\\r\\n\\t\\t\\t\\t\\t\\r\\n\\t\\t\\t\\t\\t\\r\\n                    \\xa0\\xa0\\xa0\\xa0\\t... Những vật này để lại cho các ngươi, ghi nhớ, không đến quyết định nhập môn ngày đó, không được lật xem bản môn bí tịch, không phải, sư phó định không buông tha các ngươi.\"\\r\\n\\t\\t\\t\\t\\t\\r\\n\\t\\t\\t\\t\\t\\r\\n                    \\xa0\\xa0\\xa0\\xa0\\t\"Không muốn thương tâm, là người đều có cái này một lần... . Ta về phía sau, đem ta dựa theo khi còn sống chọn tốt vị trí mai táng, ta... vong thê ngay tại kia, các ngươi muốn tốt tự lo thân... . . . .\"\\r\\n\\t\\t\\t\\t\\t\\r\\n\\t\\t\\t\\t\\t\\r\\n                    \\xa0\\xa0\\xa0\\xa0\\tThanh âm dần không thể nghe thấy, ta cùng sư muội ngẩng đầu nhìn lại, chỉ thấy sư phó ngồi ở kia hai mắt nhắm nghiền, mỉm cười mà qua.\\r\\n\\t\\t\\t\\t\\t\\r\\n\\t\\t\\t\\t\\t\\r\\n                    \\xa0\\xa0\\xa0\\xa0\\t\"Sư phó... !\"\\r\\n\\t\\t\\t\\t\\t\\r\\n\\t\\t\\t\\t\\t\\r\\n                    \\xa0\\xa0\\xa0\\xa0\\tHai ta khóc không thành tiếng gào khóc, tại trong lòng chúng ta, hắn chính là phụ thân a.\\r\\n\\t\\t\\t\\t\\t\\r\\n\\t\\t\\t\\t\\t\\r\\n                    \\xa0\\xa0\\xa0\\xa0\\tDựa theo sư phó an bài, ta chủ trì hạ táng nghi thức, làm một tràng pháp sự, để cho sư phó cùng sư mẫu ở dưới cửu tuyền gặp nhau.\\r\\n\\t\\t\\t\\t\\t\\r\\n\\t\\t\\t\\t\\t\\r\\n                    \\xa0\\xa0\\xa0\\xa0\\tTa cùng sư muội dập đầu bái tế, tiền giấy trâu ngựa Nguyên bảo ngọn nến những vật này đốt vô số, nhưng chính là không đổi được sư phó phục sinh, chỉ có thể ôm đầu mà khóc.\\r\\n\\t\\t\\t\\t\\t\\r\\n\\t\\t\\t\\t\\t\\r\\n                    \\xa0\\xa0\\xa0\\xa0\\tTa cùng sư muội kế thừa \\'Đạo Hoa cực lạc tấn táng\\' .\\r\\n\\t\\t\\t\\t\\t\\r\\n\\t\\t\\t\\t\\t\\r\\n                    \\xa0\\xa0\\xa0\\xa0\\tLúc này ta vừa mới đại tứ, lại muốn một mình đảm đương một phía, muốn bảo vệ cũng chiếu cố tốt sư muội, còn muốn cung cấp nàng lên đại học, đây là trách nhiệm của ta.\\r\\n\\t\\t\\t\\t\\t\\r\\n\\t\\t\\t\\t\\t\\r\\n                    \\xa0\\xa0\\xa0\\xa0\\tTa bên trên chính là nghệ thuật học viện, chủ công biểu diễn, bởi vì ta dáng dấp còn tính là soái khí, sư phó nói ta từ nhỏ biểu diễn d*c vọng rất mạnh, hắn hi vọng ta về sau có thể làm một cái truyền hình điện ảnh minh tinh, cho nên, đem ta đưa vào biểu diễn hệ.\\r\\n\\t\\t\\t\\t\\t\\r\\n(Nguồn Hố Truyện hotruyen .com)\\t\\t\\t\\t\\t\\r\\n                    \\xa0\\xa0\\xa0\\xa0\\tMà sư muội Phương Nhu mặc dù dáng dấp càng ngày càng đẹp, sư phó lại không muốn để nàng báo đáp nhiều kiểm tra biểu diễn hệ, nói là cái vòng này đối nữ hài tử mà nói quá bẩn, so bách quỷ loạn làm được địa phương còn bẩn, cho nên, không nguyện ý Phương Nhu đặt chân.\\r\\n\\t\\t\\t\\t\\t\\r\\n\\t\\t\\t\\t\\t\\r\\n                    \\xa0\\xa0\\xa0\\xa0\\tPhương Nhu rất nghe sư phó, nàng dự định về sau học hội họa, phương diện này nàng rất có tài hoa, chí ít, nàng vẽ phù lục so với ta tốt quá nhiều.\\r\\n\\t\\t\\t\\t\\t\\r\\n\\t\\t\\t\\t\\t\\r\\n                    \\xa0\\xa0\\xa0\\xa0\\tTa nghĩ cung cấp sư muội bên trên xong đại học cũng qua tốt một chút, nhưng cái này cần tiền a.\\r\\n\\t\\t\\t\\t\\t\\r\\n\\t\\t\\t\\t\\t\\r\\n                    \\xa0\\xa0\\xa0\\xa0\\tSư phó cả đời ngược lại là kiếm không ít tiền, nhưng hắn nói những số tiền kia không thể tiêu vào người một nhà trên thân, sẽ có nhân quả, cho nên, phần lớn nặc danh quyên cho hi vọng công trình.\\r\\n\\t\\t\\t\\t\\t\\r\\n\\t\\t\\t\\t\\t\\r\\n                    \\xa0\\xa0\\xa0\\xa0\\tLàm hai ta hiện tại thẻ ngân hàng bên trên chỉ còn lại bốn năm ngàn nhuyễn muội tệ, chút tiền như vậy làm sao có thể cung cấp hai ta đều lên xong đại học đâu? Cho nên, việc cấp bách chính là muốn nghĩ biện pháp kiếm tiền.\\r\\n\\t\\t\\t\\t\\t\\r\\n\\t\\t\\t\\t\\t\\r\\n                    \\xa0\\xa0\\xa0\\xa0\\tCái gì... ? Dựa vào tiệm quan tài a... ?\\r\\n\\t\\t\\t\\t\\t\\r\\n\\t\\t\\t\\t\\t\\r\\n                    \\xa0\\xa0\\xa0\\xa0\\tAi, không dối gạt đại gia hỏa nói, sư phó tiên thăng về sau, cửa hàng sinh ý rớt xuống ngàn trượng, mặc dù hai ta thủ công thêu vòng làm quan tài, đâm trâu ngựa xe thuyền, chồng Nguyên bảo bản lĩnh trò giỏi hơn thầy, nhưng là, hai ta không đi cho người ta nhìn Phong Thủy phê tướng mệnh, trừ tà bảo đảm bình an, làm ăn này tự nhiên là càng ngày càng ít.\\r\\n\\t\\t\\t\\t\\t\\r\\n\\t\\t\\t\\t\\t\\r\\n                    \\xa0\\xa0\\xa0\\xa0\\tNói thật, những cái này môn đạo ta cùng sư muội đều biết, nhưng vấn đề là, chỉ cần tiếp xúc, chẳng khác nào \\'Nhập hành\\', vậy liền sẽ mệnh phạm ngũ tệ tam khuyết.\\r\\n\\t\\t\\t\\t\\t\\r\\n\\t\\t\\t\\t\\t\\r\\n                    \\xa0\\xa0\\xa0\\xa0\\tNăm tệ là góa, quả, cô, độc, tàn.\\r\\n\\t\\t\\t\\t\\t\\r\\n\\t\\t\\t\\t\\t\\r\\n                    \\xa0\\xa0\\xa0\\xa0\\tTam khuyết là tiền, mệnh, quyền.\\r\\n\\t\\t\\t\\t\\t\\r\\n\\t\\t\\t\\t\\t\\r\\n                    \\xa0\\xa0\\xa0\\xa0\\tKhác còn muốn kém chút, nếu là phạm \\'Mệnh\\' cái này một hạng, vậy thì chờ lấy ợ ra rắm đi, tuổi thọ có thể hơn phân nửa trăm đều phải thắp nhang cầu nguyện.\\r\\n\\t\\t\\t\\t\\t\\r\\n\\t\\t\\t\\t\\t\\r\\n                    \\xa0\\xa0\\xa0\\xa0\\tCho nên, ta cùng sư muội không nghĩ tuỳ tiện nhập hành.\\r\\n\\t\\t\\t\\t\\t\\r\\n\\t\\t\\t\\t\\t\\r\\n                    \\xa0\\xa0\\xa0\\xa0\\tCứ như vậy, chỉ dựa vào chúng ta thủ công đánh quan tài biên vòng hoa loại hình , căn bản liền không đủ sinh hoạt.\\r\\n\\t\\t\\t\\t\\t\\r\\n\\t\\t\\t\\t\\t\\r\\n                    \\xa0\\xa0\\xa0\\xa0\\tTiền a, đối với nó liền chơi không chuyển.\\r\\n\\t\\t\\t\\t\\t\\r\\n\\t\\t\\t\\t\\t\\r\\n                    \\xa0\\xa0\\xa0\\xa0\\tNăm này nghỉ hè, ta cùng sư muội đều đi làm việc ngoài giờ.\\r\\n\\t\\t\\t\\t\\t\\r\\n\\t\\t\\t\\t\\t\\r\\n                    \\xa0\\xa0\\xa0\\xa0\\tSư muội tìm cái tiệm ăn nhanh làm công, lưu lại nữ sinh chung cư.\\r\\n\\t\\t\\t\\t\\t\\r\\n\\t\\t\\t\\t\\t\\r\\n                    \\xa0\\xa0\\xa0\\xa0\\tTa một suy nghĩ, dứt khoát đi đưa chuyển phát nhanh.\\r\\n\\t\\t\\t\\t\\t\\r\\n\\t\\t\\t\\t\\t\\r\\n                    \\xa0\\xa0\\xa0\\xa0\\tChuyển phát nhanh công ty mỹ mạo lão bản nương hứa hẹn ta tiền lương một tuần một kết toán, tuyệt không kéo dài hoặc ép tiền lương.\\r\\n\\t\\t\\t\\t\\t\\r\\n\\t\\t\\t\\t\\t\\r\\n                    \\xa0\\xa0\\xa0\\xa0\\tTa cảm thấy, là bởi vì ta soái khí có hình bề ngoài để lão bản nương thích, mới chiếu cố như vậy ta... .\\r\\n\\t\\t\\t\\t\\t\\r\\n\\t\\t\\t\\t\\t\\r\\n                    \\xa0\\xa0\\xa0\\xa0\\tGiữa hè dưới liệt nhật, ta mở ra ba lượt xe nhỏ, lao vùn vụt tại trên đường cái, xuyên qua tại trong thành thị, từng nhà đưa chuyển phát nhanh... .\\r\\n\\t\\t\\t\\t\\t\\r\\n\\t\\t\\t\\t\\t\\r\\n                    \\xa0\\xa0\\xa0\\xa0\\tLão bản nương nhà có cái bên trên đại nhất cô nương, một tới hai đi liền cùng ta rất quen.\\r\\n\\t\\t\\t\\t\\t\\r\\n\\t\\t\\t\\t\\t\\r\\n                    \\xa0\\xa0\\xa0\\xa0\\tNàng tên là Bạch Hiểu Hâm, dáng dấp không tính xinh đẹp, chí ít, không đuổi kịp nhà ta sư muội đẹp mắt, nhưng tâm địa tốt, thường xuyên mua băng côn cùng dưa hấu đưa ta ăn.\\r\\n\\t\\t\\t\\t\\t\\r\\n\\t\\t\\t\\t\\t\\r\\n                    \\xa0\\xa0\\xa0\\xa0\\tMột ngày này, Bạch Hiểu Hâm các nàng một đám nữ sinh tụ tại một chỗ, cho cái tốt khuê mật sinh nhật, Bạch Hiểu Hâm uống một chút rượu trái cây, say mê man, bạn học của nàng gọi điện thoại đến nơi đây, lão bản nương nghe xong liền gấp.\\r\\n\\t\\t\\t\\t\\t\\r\\n\\t\\t\\t\\t\\t\\r\\n                    \\xa0\\xa0\\xa0\\xa0\\tCông ty lão bản có việc về nhà đi, vừa vặn ta tan ca, lão bản nương liền kêu lên ta cùng nhau đi tiếp Bạch Hiểu Hâm.\\r\\n\\t\\t\\t\\t\\t\\r\\n\\t\\t\\t\\t\\t\\r\\n                    \\xa0\\xa0\\xa0\\xa0\\tSự tình ngược lại là thuận lợi, ta giúp đỡ lão bản nương đem say cô nương đưa lên taxi.\\r\\n\\t\\t\\t\\t\\t\\r\\n\\t\\t\\t\\t\\t\\r\\n                    \\xa0\\xa0\\xa0\\xa0\\tLúc này, bỗng nhiên cảm giác một cỗ lạnh buốt khí tức âm trầm tiến xe, sau đó, bám vào tại Bạch Hiểu Hâm trên thân bất động.\\r\\n\\t\\t\\t\\t\\t\\r\\n\\t\\t\\t\\t\\t\\r\\n                    \\xa0\\xa0\\xa0\\xa0\\tTrong lòng ta \\'Lộp bộp\\' một chút, mặc dù ta Âm Dương Nhãn bịt lại, nhưng loại cảm giác này không sai, nhất định có không sạch sẽ mấy thứ bẩn thỉu quấn lên Bạch Hiểu Hâm!\\r\\n\\t\\t\\t\\t\\t\\r\\n\\t\\t\\t\\t\\t\\r\\n                    \\xa0\\xa0\\xa0\\xa0\\tCô nương này bình thường đối ta tốt, trong lòng ta là minh bạch, lúc này, ta nên làm cái gì?\\r\\n\\t\\t\\t\\t\\t\\r\\n\\t\\t\\t\\t\\t\\r\\n                    \\xa0\\xa0\\xa0\\xa0\\tLòng bàn tay của ta bên trong đều là mồ hôi.\\r\\n\\t\\t\\t\\t\\t\\r\\n\\t\\t\\t\\t\\t\\r\\n                    \\xa0\\xa0\\xa0\\xa0\\tĐổi mới nhanh nhất không sai tiểu thuyết đọc, hãy ghé thăm !\\r\\n\\t\\t\\t\\t\\t\\r\\n\\r\\n\\r\\n\\r\\n        '"
      ]
     },
     "execution_count": 5,
     "metadata": {},
     "output_type": "execute_result"
    }
   ],
   "source": [
    "content\n"
   ]
  },
  {
   "cell_type": "code",
   "execution_count": 15,
   "metadata": {},
   "outputs": [
    {
     "data": {
      "text/plain": [
       "['/chuong/mao-son-quy-thuat-su-chuong-2-31303539352D382D322D37313238302D30']"
      ]
     },
     "execution_count": 15,
     "metadata": {},
     "output_type": "execute_result"
    }
   ],
   "source": []
  },
  {
   "cell_type": "code",
   "execution_count": null,
   "metadata": {},
   "outputs": [],
   "source": [
    "31303539352D382D31312D37313238302D30\n"
   ]
  }
 ],
 "metadata": {
  "kernelspec": {
   "display_name": "Python 3",
   "language": "python",
   "name": "python3"
  },
  "language_info": {
   "codemirror_mode": {
    "name": "ipython",
    "version": 3
   },
   "file_extension": ".py",
   "mimetype": "text/x-python",
   "name": "python",
   "nbconvert_exporter": "python",
   "pygments_lexer": "ipython3",
   "version": "3.10.8"
  }
 },
 "nbformat": 4,
 "nbformat_minor": 2
}
